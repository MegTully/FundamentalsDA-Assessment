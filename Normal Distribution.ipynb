{
 "cells": [
  {
   "attachments": {},
   "cell_type": "markdown",
   "id": "807da105",
   "metadata": {},
   "source": [
    "<h1 style=\"color:#1E90FF;\"><center>The Normal Distribution</center></h1>\n",
    "\n",
    "\n",
    "![alternatvie text](https://cdn.analyticsvidhya.com/wp-content/uploads/2020/03/Screenshot-from-2020-03-06-17-19-03.png)"
   ]
  },
  {
   "cell_type": "markdown",
   "id": "f8ea187d",
   "metadata": {},
   "source": [
    "<h3 style=\"color:#1E90FF;\">What is it ?</h3>"
   ]
  },
  {
   "cell_type": "markdown",
   "id": "80aaf3b1",
   "metadata": {},
   "source": [
    "The normal distribution is a well known tool used in statistics. When plotted on a graph it looks like a bell shaped curve that is symmetrical and has it's mean in the centre.[2] In this distribution the mean, median and mode are all the same and data points closest to the mean occur more frequently than data further away. The standard deviation ($\\sigma$) and the variance ($\\sigma^2$) represent the spread/scale of the data by showing us how far away from the mean the data points are."
   ]
  },
  {
   "cell_type": "markdown",
   "id": "c874c654",
   "metadata": {},
   "source": [
    "<h4>The Emperical Rule</h4>\n",
    "This rule states that:<br>\n",
    "<center> 1. 68.27% of data can be found 1 standard deviation away from the mean  </center><br>\n",
    "<center> 2. 95.45% of data can be found 2 standard deviations away from the mean </center><br>\n",
    "<center> 3. 99.73% of data can be found 3 standard deviations away from the mean </center><br>"
   ]
  },
  {
   "cell_type": "markdown",
   "id": "21ebd4ab",
   "metadata": {},
   "source": [
    "The Normal Distribution Formula:\n",
    "$$\\frac{1}{\\sqrt{2\\pi\\sigma^{2}}} e^{-\\frac{(x-\\mu)^{2}}{2\\sigma^{2}}}$$\n",
    "\n",
    "Where:<br>\n",
    "$x$ = Data <br>\n",
    "$\\sigma ^2$ = Variance<br>\n",
    "$\\mu$ = Mean<br>"
   ]
  },
  {
   "cell_type": "markdown",
   "id": "5e98273c",
   "metadata": {},
   "source": [
    "<h5 style=\"color:#8A2BE2;\">Fun Fact: </h5>\n",
    "It is also called the Gaussian distribution a mathematician named Carl Friedrich Gauss discovered it first. [4][5]"
   ]
  },
  {
   "cell_type": "markdown",
   "id": "f40f2e09",
   "metadata": {},
   "source": [
    "<h3 style=\"color:#1E90FF;\">References:</h3>"
   ]
  },
  {
   "cell_type": "markdown",
   "id": "d9e9a641",
   "metadata": {},
   "source": [
    "[1] https://cdn.analyticsvidhya.com/wp-content/uploads/2020/03/Screenshot-from-2020-03-06-17-19-03.png <br>\n",
    "[2] https://www.khanacademy.org/math/statistics-probability/modeling-distributions-of-data/normal-distributions-library/a/normal-distributions-review <br>\n",
    "[3]https://www.investopedia.com/terms/n/normaldistribution.asp#:~:text=Investopedia%20%2F%20Lara%20Antal-,What%20Is%20a%20Normal%20Distribution%3F,as%20a%20%22bell%20curve%22. <br>\n",
    "[4]https://simple.wikipedia.org/wiki/Normal_distribution#:~:text=The%20normal%20distribution%20is%20a,in%20many%20fields%20of%20science.&text=%2C%20respectively. <br>\n",
    "[5]"
   ]
  },
  {
   "cell_type": "code",
   "execution_count": null,
   "id": "b2edaa59",
   "metadata": {},
   "outputs": [],
   "source": []
  }
 ],
 "metadata": {
  "kernelspec": {
   "display_name": "Python 3 (ipykernel)",
   "language": "python",
   "name": "python3"
  },
  "language_info": {
   "codemirror_mode": {
    "name": "ipython",
    "version": 3
   },
   "file_extension": ".py",
   "mimetype": "text/x-python",
   "name": "python",
   "nbconvert_exporter": "python",
   "pygments_lexer": "ipython3",
   "version": "3.9.7"
  }
 },
 "nbformat": 4,
 "nbformat_minor": 5
}
