{
 "cells": [
  {
   "cell_type": "markdown",
   "id": "807da105",
   "metadata": {},
   "source": [
    "<h1 style=\"color:#1E90FF;\"><center>The Normal Distribution</center></h1>\n",
    "\n",
    "\n",
    "![alternatvie text](https://cdn.analyticsvidhya.com/wp-content/uploads/2020/03/Screenshot-from-2020-03-06-17-19-03.png)"
   ]
  },
  {
   "cell_type": "markdown",
   "id": "f8ea187d",
   "metadata": {},
   "source": [
    "<h3 style=\"color:#1E90FF;\">What is it ?</h3>"
   ]
  },
  {
   "cell_type": "markdown",
   "id": "80aaf3b1",
   "metadata": {},
   "source": [
    "The normal distribution is a well known tool used in statistics. When plotted on a graph it looks like a bell shaped curve that is symmetrical and has it's mean in the centre.[2] In this distribution the mean, median and mode are all the same and data points closest to the mean occur more frequently than data further away. The standard deviation ($\\sigma$) and the variance ($\\sigma^2$) represent the spread/scale of the data by showing us how far away from the mean the data points are."
   ]
  },
  {
   "cell_type": "markdown",
   "id": "c874c654",
   "metadata": {},
   "source": [
    "<h4>The Emperical Rule</h4>\n",
    "This rule states that:<br>\n",
    "<center> 1. 68.27% of data can be found 1 standard deviation away from the mean  </center><br>\n",
    "<center> 2. 95.45% of data can be found 2 standard deviations away from the mean </center><br>\n",
    "<center> 3. 99.73% of data can be found 3 standard deviations away from the mean </center><br>"
   ]
  },
  {
   "cell_type": "markdown",
   "id": "21ebd4ab",
   "metadata": {},
   "source": [
    "The Normal Distribution Formula:\n",
    "$$\\frac{1}{\\sqrt{2\\pi\\sigma^{2}}} e^{-\\frac{(x-\\mu)^{2}}{2\\sigma^{2}}}$$\n",
    "\n",
    "Where:<br>\n",
    "$x$ = Data <br>\n",
    "$\\sigma ^2$ = Variance<br>\n",
    "$\\mu$ = Mean<br>"
   ]
  },
  {
   "cell_type": "markdown",
   "id": "5e98273c",
   "metadata": {},
   "source": [
    "<h5 style=\"color:#8A2BE2;\">Fun Fact: </h5>\n",
    "It is also called the Gaussian distribution a mathematician named Carl Friedrich Gauss discovered it first. [4][5]"
   ]
  },
  {
   "cell_type": "markdown",
   "id": "19fbf6d6",
   "metadata": {},
   "source": [
    "<h3 style=\"color:#1E90FF;\">Example</h3>\n",
    "Let's get started with an example.\n",
    "\n",
    "First we must created a normally distributed dataset using numpy[6], in order to do this we need to pick a value for the mean and the standard deviation.\n",
    "\n",
    "Mean = 50 <br>\n",
    "Standard Deviation = 3 <br>"
   ]
  },
  {
   "cell_type": "code",
   "execution_count": 16,
   "id": "3af5e8d5",
   "metadata": {},
   "outputs": [
    {
     "data": {
      "text/plain": [
       "array([48.44081212, 46.24216558, 48.11346336, 50.09763419, 50.38173108,\n",
       "       53.75524578, 49.73096436, 53.12712948, 50.36546049, 50.10496156,\n",
       "       49.54368118, 51.86304297, 46.83039466, 53.35684996, 50.1489335 ,\n",
       "       49.29015888, 50.42642318, 46.51253521, 53.37354643, 48.15295602,\n",
       "       51.6792369 , 47.35877352, 55.91243423, 45.06461713, 50.33734147,\n",
       "       48.22602943, 50.3320359 , 47.94661956, 48.19269446, 47.0839051 ,\n",
       "       53.10216366, 47.29544353, 50.68513287, 52.60635003, 52.13882945,\n",
       "       51.46032294, 45.87688085, 52.91118283, 49.51947676, 52.24991502,\n",
       "       56.34017422, 49.16403496, 49.2994895 , 51.65043984, 52.7733085 ,\n",
       "       51.98507211, 54.37118264, 49.93544016, 50.14544729, 53.48244211,\n",
       "       50.15916555, 49.79530584, 46.92457034, 51.39569334, 43.85560712,\n",
       "       47.82899378, 46.0019742 , 49.23646842, 52.42328411, 43.73143402,\n",
       "       44.62553501, 47.48141701, 50.76837145, 55.24300329, 52.66631433,\n",
       "       54.42875066, 52.53603098, 52.64002341, 51.70198355, 49.1419164 ,\n",
       "       43.41457666, 51.23871812, 50.12987225, 47.67209503, 51.49573802,\n",
       "       53.69674165, 50.62822365, 46.57842512, 56.11313013, 47.36080084,\n",
       "       53.65629729, 42.54953178, 48.86937447, 49.25605546, 51.25250426,\n",
       "       49.4783206 , 50.02270598, 44.30145251, 51.87517103, 47.69382924,\n",
       "       52.32744622, 54.06120432, 52.40439439, 45.28141171, 50.86627014,\n",
       "       54.8153327 , 50.36708022, 48.08647226, 52.01586244, 53.54811331])"
      ]
     },
     "execution_count": 16,
     "metadata": {},
     "output_type": "execute_result"
    }
   ],
   "source": [
    "#import numpy package\n",
    "import numpy as np\n",
    "\n",
    "#Create a dataset\n",
    "mean = 50\n",
    "std_dev = 3\n",
    "\n",
    "#Generate 100 data points with a normal distribution that have mean and std dev as stated above [6]\n",
    "data_pts = np.random.normal(mean,std_dev,100)\n",
    "\n",
    "data_pts"
   ]
  },
  {
   "cell_type": "markdown",
   "id": "035d9bc1",
   "metadata": {},
   "source": [
    "We now have an array called \"data_pts\" that contain values that have a mean of 50, this means they are centred around 50 because most of the values are close to 50. They have a standard deviation of 3, this is how far they spread from the mean."
   ]
  },
  {
   "cell_type": "code",
   "execution_count": 17,
   "id": "c0c42180",
   "metadata": {},
   "outputs": [
    {
     "data": {
      "text/plain": [
       "50.126275015737036"
      ]
     },
     "execution_count": 17,
     "metadata": {},
     "output_type": "execute_result"
    }
   ],
   "source": [
    "#check the mean\n",
    "data_pts.mean()"
   ]
  },
  {
   "cell_type": "code",
   "execution_count": 18,
   "id": "ccde80f1",
   "metadata": {},
   "outputs": [
    {
     "data": {
      "text/plain": [
       "2.9769026856934606"
      ]
     },
     "execution_count": 18,
     "metadata": {},
     "output_type": "execute_result"
    }
   ],
   "source": [
    "#check the standard deviation\n",
    "data_pts.std()"
   ]
  },
  {
   "cell_type": "code",
   "execution_count": 19,
   "id": "a972f48d",
   "metadata": {},
   "outputs": [
    {
     "data": {
      "text/plain": [
       "(42.54953177512064, 56.34017421583425)"
      ]
     },
     "execution_count": 19,
     "metadata": {},
     "output_type": "execute_result"
    }
   ],
   "source": [
    "#check min and max values\n",
    "data_pts.min(),data_pts.max()"
   ]
  },
  {
   "cell_type": "markdown",
   "id": "fb8419ae",
   "metadata": {},
   "source": [
    "<h4>Plot the data points</h4>"
   ]
  },
  {
   "cell_type": "code",
   "execution_count": 5,
   "id": "ad1c9ea6",
   "metadata": {},
   "outputs": [],
   "source": [
    "#import matplotlib for plotting graphs\n",
    "import matplotlib.pyplot as plt"
   ]
  },
  {
   "cell_type": "code",
   "execution_count": 29,
   "id": "85c5635c",
   "metadata": {},
   "outputs": [
    {
     "data": {
      "image/png": "[encoded data removed]",
      "text/plain": [
       "<Figure size 864x360 with 1 Axes>"
      ]
     },
     "metadata": {
      "needs_background": "light"
     },
     "output_type": "display_data"
    }
   ],
   "source": [
    "# Create a plot and set the size of the figure \n",
    "fig, ax = plt.subplots(figsize=(12,5))\n",
    "#number of equal width bins/intervals\n",
    "bin_size = 20\n",
    "#plot a histogram [7]\n",
    "plt.hist(data_pts,bin_size, color=\"m\")\n",
    "plt.show;"
   ]
  },
  {
   "cell_type": "markdown",
   "id": "79c602e6",
   "metadata": {},
   "source": [
    "<h4>Analysis</h4>\n",
    "The plot above is a histogram that shows the data points increase and reach peak at around 50 (the mean), this is where points appear most frequent. The histogram then start to decline again. Data points are less frequent as we move towards the tail where values are around 43 and 56. It appears symmetrical around the mean which shows it is normally distributed."
   ]
  },
  {
   "cell_type": "markdown",
   "id": "77ebfd5f",
   "metadata": {},
   "source": [
    "<h3 style=\"color:#1E90FF;\">Standard Normal Distribution</h3>"
   ]
  },
  {
   "cell_type": "markdown",
   "id": "cdf0c75e",
   "metadata": {},
   "source": [
    "A standard normal distribution is where the values are converted into z-values using a formula. This results in the mean being zero and the standard deviation being one. In order to convert the values to z-values we use the following formula[8][9][10]:\n",
    "\n",
    "$$z = \\frac {x-\\mu}{\\sigma}$$\n",
    "\n",
    "Where:<br>\n",
    "x = individual value <br>\n",
    "$\\mu$ = mean <br>\n",
    "$\\sigma$ = standard deviation <br>"
   ]
  },
  {
   "cell_type": "markdown",
   "id": "b728062e",
   "metadata": {},
   "source": [
    "Example:<br>\n",
    "Let's convert one of our data_pts into a z value(standardize it).\n",
    "\n",
    "x= 47.35877352<br>\n",
    "$\\mu$ = 50<br>\n",
    "$\\sigma$ = 3<br>\n",
    "\n",
    "$$z = \\frac { 47.35877352- 50}{3}$$\n",
    "\n",
    "z = -0.8804"
   ]
  },
  {
   "cell_type": "markdown",
   "id": "10283512",
   "metadata": {},
   "source": [
    "<h4>What does the z-score mean?</h4>\n",
    "The reason we standardize our normal distribution is because it allows us to calculate the area under the graph which in turn lets us calculate the probability of an event, in our dataset, happening. The z-score of x tells us how many standard deviations away from the mean x is. The bigger the z-score the further away from the mean it is and the less probability it has of happening.[8][9]\n",
    "\n",
    "For the z-score we calculated above we learned that the point x= 47.35877352 is -0.8804 standard deviations away from the mean."
   ]
  },
  {
   "cell_type": "markdown",
   "id": "d37e3b8c",
   "metadata": {},
   "source": [
    "<h4>Convert our data set to a standard normal distribution [11]</h4>"
   ]
  },
  {
   "cell_type": "code",
   "execution_count": 38,
   "id": "c059e7dc",
   "metadata": {},
   "outputs": [
    {
     "data": {
      "text/plain": [
       "array([-5.66180043e-01, -1.30474854e+00, -6.76142915e-01, -9.62101567e-03,\n",
       "        8.58127028e-02,  1.21904246e+00, -1.32792603e-01,  1.00804587e+00,\n",
       "        8.03470924e-02, -7.15960793e-03, -1.95704696e-01,  5.83414422e-01,\n",
       "       -1.10715086e+00,  1.08521349e+00,  7.61142894e-03, -2.80867811e-01,\n",
       "        1.00825657e-01, -1.21392608e+00,  1.09082216e+00, -6.62876555e-01,\n",
       "        5.21670357e-01, -9.29658032e-01,  1.94368437e+00, -1.70031016e+00,\n",
       "        7.09013631e-02, -6.38329763e-01,  6.91191173e-02, -7.32189017e-01,\n",
       "       -6.49527633e-01, -1.02199173e+00,  9.99659363e-01, -9.50931818e-01,\n",
       "        1.87731313e-01,  8.33105841e-01,  6.76056509e-01,  4.48132862e-01,\n",
       "       -1.42745484e+00,  9.35505155e-01, -2.03835436e-01,  7.13372331e-01,\n",
       "        2.08737062e+00, -3.23235309e-01, -2.77733470e-01,  5.11996857e-01,\n",
       "        8.89190464e-01,  6.24406400e-01,  1.42594773e+00, -6.41051710e-02,\n",
       "        6.44034213e-03,  1.12740235e+00,  1.10485741e-02, -1.11179037e-01,\n",
       "       -1.07551540e+00,  4.26422514e-01, -2.10644034e+00, -7.71701824e-01,\n",
       "       -1.38543354e+00, -2.98903490e-01,  7.71610406e-01, -2.14815252e+00,\n",
       "       -1.84780646e+00, -8.88459680e-01,  2.15692785e-01,  1.71880939e+00,\n",
       "        8.53249026e-01,  1.44528595e+00,  8.09484292e-01,  8.44417389e-01,\n",
       "        5.29311402e-01, -3.30665368e-01, -2.25459112e+00,  3.73691459e-01,\n",
       "        1.20838301e-03, -8.24407194e-01,  4.60029483e-01,  1.19938977e+00,\n",
       "        1.68614391e-01, -1.19179237e+00,  2.01110206e+00, -9.28977017e-01,\n",
       "        1.18580372e+00, -2.54517666e+00, -4.22217547e-01, -2.92323818e-01,\n",
       "        3.78322494e-01, -2.17660596e-01, -3.47908691e-02, -1.95667212e+00,\n",
       "        5.87488473e-01, -8.17106245e-01,  7.39416582e-01,  1.32181993e+00,\n",
       "        7.65264980e-01, -1.62748461e+00,  2.48578876e-01,  1.57514644e+00,\n",
       "        8.08911899e-02, -6.85209754e-01,  6.34749478e-01,  1.14946260e+00])"
      ]
     },
     "execution_count": 38,
     "metadata": {},
     "output_type": "execute_result"
    }
   ],
   "source": [
    "#import pandas\n",
    "import pandas as pd\n",
    "#import scipy statistics\n",
    "import scipy.stats as stats\n",
    "#create new array with z-scores\n",
    "stand_values= stats.zscore(data_pts)\n",
    "stand_values"
   ]
  },
  {
   "cell_type": "markdown",
   "id": "3118cba5",
   "metadata": {},
   "source": [
    "<h4>Plot standard normal distribution</h4>"
   ]
  },
  {
   "cell_type": "code",
   "execution_count": 41,
   "id": "05745bb9",
   "metadata": {},
   "outputs": [
    {
     "data": {
      "image/png": "[encoded data removed]",
      "text/plain": [
       "<Figure size 864x360 with 1 Axes>"
      ]
     },
     "metadata": {
      "needs_background": "light"
     },
     "output_type": "display_data"
    }
   ],
   "source": [
    "# Create a plot and set the size of the figure \n",
    "fig, ax = plt.subplots(figsize=(12,5))\n",
    "#number of equal width bins/intervals\n",
    "bin_size = 20\n",
    "#plot a histogram [7]\n",
    "plt.hist(stand_values,bin_size, color=\"cyan\")\n",
    "plt.show;"
   ]
  },
  {
   "cell_type": "markdown",
   "id": "e64afe53",
   "metadata": {},
   "source": [
    "Analysis: The standard normal distribution graph is the same as our previous normal distribution graph except the x-axis scale has changed. The mean is now 0 and the standard deviation is now 1."
   ]
  },
  {
   "cell_type": "markdown",
   "id": "fc9e4b12",
   "metadata": {},
   "source": [
    "<h3 style=\"color:#1E90FF;\">Normal Cumulative Density Function</h3>"
   ]
  },
  {
   "cell_type": "markdown",
   "id": "faf8c721",
   "metadata": {},
   "source": [
    "The Normal distribution function we just explored above was a probability density function(PDF). In probability we also have a cumulative density function(CDF) which calculates the probability that a random variable takes a value less than or equal to x. The formula for calulating the CDF is as follows:\n",
    "\n",
    "$$F_{x}{(x)} = P(X \\le x)$$\n",
    "\n",
    "Where:<br>\n",
    "$F_{x}{(x)}$ = Function of X<br>\n",
    "$X$ = Random Variable <br>\n",
    "$P(X \\le x)$ = Probability that X will have a value less than or equal to x<br>\n",
    "\n",
    "[12][13][14]"
   ]
  },
  {
   "cell_type": "code",
   "execution_count": null,
   "id": "f99a8128",
   "metadata": {},
   "outputs": [],
   "source": []
  },
  {
   "cell_type": "code",
   "execution_count": null,
   "id": "9b3e6fba",
   "metadata": {},
   "outputs": [],
   "source": []
  },
  {
   "cell_type": "code",
   "execution_count": null,
   "id": "7903889a",
   "metadata": {},
   "outputs": [],
   "source": []
  },
  {
   "cell_type": "markdown",
   "id": "f40f2e09",
   "metadata": {},
   "source": [
    "<h3 style=\"color:#1E90FF;\">References:</h3>"
   ]
  },
  {
   "cell_type": "markdown",
   "id": "d9e9a641",
   "metadata": {},
   "source": [
    "[1] https://cdn.analyticsvidhya.com/wp-content/uploads/2020/03/Screenshot-from-2020-03-06-17-19-03.png <br>\n",
    "[2] https://www.khanacademy.org/math/statistics-probability/modeling-distributions-of-data/normal-distributions-library/a/normal-distributions-review <br>\n",
    "[3]https://www.investopedia.com/terms/n/normaldistribution.asp#:~:text=Investopedia%20%2F%20Lara%20Antal-,What%20Is%20a%20Normal%20Distribution%3F,as%20a%20%22bell%20curve%22. <br>\n",
    "[4]https://simple.wikipedia.org/wiki/Normal_distribution#:~:text=The%20normal%20distribution%20is%20a,in%20many%20fields%20of%20science.&text=%2C%20respectively. <br>\n",
    "[5] https://www.analyticsvidhya.com/blog/2020/04/statistics-data-science-normal-distribution/<br>\n",
    "[6] https://numpy.org/doc/stable/reference/random/generated/numpy.random.normal.html <br>\n",
    "[7] https://matplotlib.org/stable/api/_as_gen/matplotlib.pyplot.hist.html <br>\n",
    "[8] https://www.scribbr.com/statistics/standard-normal-distribution/<br>\n",
    "[9] https://www.statisticshowto.com/probability-and-statistics/z-score/<br>\n",
    "[10] https://en.wikipedia.org/wiki/Normal_distribution#Cumulative_distribution_functions<br>\n",
    "[11] https://www.kaggle.com/general/210726 <br>\n",
    "[12] https://www.itl.nist.gov/div898/handbook/eda/section3/eda362.htm#:~:text=The%20cumulative%20distribution%20function%20(cdf,(%5Cmu)%20d%5Cmu%7D<br>\n",
    "[13] https://en.wikipedia.org/wiki/Cumulative_distribution_function\n",
    "[14] https://www.simplilearn.com/tutorials/statistics-tutorial/cumulative-distribution-function#:~:text=The%20cumulative%20distribution%20function%20is,probability%20for%20a%20random%20variable.\n",
    "[15]\n",
    "[16]"
   ]
  },
  {
   "cell_type": "code",
   "execution_count": null,
   "id": "b2edaa59",
   "metadata": {},
   "outputs": [],
   "source": []
  }
 ],
 "metadata": {
  "kernelspec": {
   "display_name": "Python 3 (ipykernel)",
   "language": "python",
   "name": "python3"
  },
  "language_info": {
   "codemirror_mode": {
    "name": "ipython",
    "version": 3
   },
   "file_extension": ".py",
   "mimetype": "text/x-python",
   "name": "python",
   "nbconvert_exporter": "python",
   "pygments_lexer": "ipython3",
   "version": "3.9.7"
  }
 },
 "nbformat": 4,
 "nbformat_minor": 5
}
