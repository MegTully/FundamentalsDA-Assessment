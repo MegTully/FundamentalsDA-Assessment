{
 "cells": [
  {
   "cell_type": "markdown",
   "id": "44b8efa7",
   "metadata": {},
   "source": [
    "## Exercise 1\n",
    "***\n",
    "<h4>Question:</h4>\n",
    "Write a Python function to remove all non-alphanumeric characters from a string"
   ]
  },
  {
   "cell_type": "code",
   "execution_count": 1,
   "id": "7b08995c",
   "metadata": {},
   "outputs": [],
   "source": [
    "#import regular expressions module\n",
    "import re"
   ]
  },
  {
   "cell_type": "code",
   "execution_count": 11,
   "id": "a474eafe",
   "metadata": {},
   "outputs": [
    {
     "data": {
      "text/plain": [
       "'Hey What you 4 the weekend '"
      ]
     },
     "execution_count": 11,
     "metadata": {},
     "output_type": "execute_result"
    }
   ],
   "source": [
    "#create a string variable called text\n",
    "text = \"Hey! What you @ 4 the weekend ??\"\n",
    "#create a function to clean up the text\n",
    "#function takes in a string called text\n",
    "def preprocess_text(text):\n",
    "    #replace any characters that are not in the square brackets with a blank space and return as text \n",
    "    text = re.sub(r\"[^A-Za-z0-9]+\",\" \",text)\n",
    "    return text\n",
    "#call the function\n",
    "preprocess_text(text)\n",
    "    "
   ]
  },
  {
   "cell_type": "markdown",
   "id": "96d02453",
   "metadata": {},
   "source": [
    "#### References :\n",
    "[1] https://docs.python.org/3/library/re.html <br>\n",
    "[2] https://www.w3schools.com/python/python_regex.asp#sub"
   ]
  },
  {
   "cell_type": "markdown",
   "id": "769d9756",
   "metadata": {},
   "source": [
    "## Exercises 2\n",
    "***\n",
    "<h4>Question:</h4>\n",
    "Adapt the code from the lecture notebook to capitalise the first letter of the iris species, using regular expressions"
   ]
  },
  {
   "cell_type": "code",
   "execution_count": 37,
   "id": "b7fb1207",
   "metadata": {},
   "outputs": [
    {
     "data": {
      "text/plain": [
       "['setosa,0.2,1.4,3.5,5.1',\n",
       " 'setosa,0.2,1.4,3.0,4.9',\n",
       " 'setosa,0.2,1.3,3.2,4.7',\n",
       " 'setosa,0.2,1.5,3.1,4.6',\n",
       " 'setosa,0.2,1.4,3.6,5.0',\n",
       " 'setosa,0.4,1.7,3.9,5.4',\n",
       " 'setosa,0.3,1.4,3.4,4.6',\n",
       " 'setosa,0.2,1.5,3.4,5.0',\n",
       " 'setosa,0.2,1.4,2.9,4.4',\n",
       " 'setosa,0.1,1.5,3.1,4.9',\n",
       " 'setosa,0.2,1.5,3.7,5.4',\n",
       " 'setosa,0.2,1.6,3.4,4.8',\n",
       " 'setosa,0.1,1.4,3.0,4.8',\n",
       " 'setosa,0.1,1.1,3.0,4.3',\n",
       " 'setosa,0.2,1.2,4.0,5.8',\n",
       " 'setosa,0.4,1.5,4.4,5.7',\n",
       " 'setosa,0.4,1.3,3.9,5.4',\n",
       " 'setosa,0.3,1.4,3.5,5.1',\n",
       " 'setosa,0.3,1.7,3.8,5.7',\n",
       " 'setosa,0.3,1.5,3.8,5.1',\n",
       " 'setosa,0.2,1.7,3.4,5.4',\n",
       " 'setosa,0.4,1.5,3.7,5.1',\n",
       " 'setosa,0.2,1.0,3.6,4.6',\n",
       " 'setosa,0.5,1.7,3.3,5.1',\n",
       " 'setosa,0.2,1.9,3.4,4.8',\n",
       " 'setosa,0.2,1.6,3.0,5.0',\n",
       " 'setosa,0.4,1.6,3.4,5.0',\n",
       " 'setosa,0.2,1.5,3.5,5.2',\n",
       " 'setosa,0.2,1.4,3.4,5.2',\n",
       " 'setosa,0.2,1.6,3.2,4.7',\n",
       " 'setosa,0.2,1.6,3.1,4.8',\n",
       " 'setosa,0.4,1.5,3.4,5.4',\n",
       " 'setosa,0.1,1.5,4.1,5.2',\n",
       " 'setosa,0.2,1.4,4.2,5.5',\n",
       " 'setosa,0.1,1.5,3.1,4.9',\n",
       " 'setosa,0.2,1.2,3.2,5.0',\n",
       " 'setosa,0.2,1.3,3.5,5.5',\n",
       " 'setosa,0.1,1.5,3.1,4.9',\n",
       " 'setosa,0.2,1.3,3.0,4.4',\n",
       " 'setosa,0.2,1.5,3.4,5.1',\n",
       " 'setosa,0.3,1.3,3.5,5.0',\n",
       " 'setosa,0.3,1.3,2.3,4.5',\n",
       " 'setosa,0.2,1.3,3.2,4.4',\n",
       " 'setosa,0.6,1.6,3.5,5.0',\n",
       " 'setosa,0.4,1.9,3.8,5.1',\n",
       " 'setosa,0.3,1.4,3.0,4.8',\n",
       " 'setosa,0.2,1.6,3.8,5.1',\n",
       " 'setosa,0.2,1.4,3.2,4.6',\n",
       " 'setosa,0.2,1.5,3.7,5.3',\n",
       " 'setosa,0.2,1.4,3.3,5.0',\n",
       " 'versicolor,1.4,4.7,3.2,7.0',\n",
       " 'versicolor,1.5,4.5,3.2,6.4',\n",
       " 'versicolor,1.5,4.9,3.1,6.9',\n",
       " 'versicolor,1.3,4.0,2.3,5.5',\n",
       " 'versicolor,1.5,4.6,2.8,6.5',\n",
       " 'versicolor,1.3,4.5,2.8,5.7',\n",
       " 'versicolor,1.6,4.7,3.3,6.3',\n",
       " 'versicolor,1.0,3.3,2.4,4.9',\n",
       " 'versicolor,1.3,4.6,2.9,6.6',\n",
       " 'versicolor,1.4,3.9,2.7,5.2',\n",
       " 'versicolor,1.0,3.5,2.0,5.0',\n",
       " 'versicolor,1.5,4.2,3.0,5.9',\n",
       " 'versicolor,1.0,4.0,2.2,6.0',\n",
       " 'versicolor,1.4,4.7,2.9,6.1',\n",
       " 'versicolor,1.3,3.6,2.9,5.6',\n",
       " 'versicolor,1.4,4.4,3.1,6.7',\n",
       " 'versicolor,1.5,4.5,3.0,5.6',\n",
       " 'versicolor,1.0,4.1,2.7,5.8',\n",
       " 'versicolor,1.5,4.5,2.2,6.2',\n",
       " 'versicolor,1.1,3.9,2.5,5.6',\n",
       " 'versicolor,1.8,4.8,3.2,5.9',\n",
       " 'versicolor,1.3,4.0,2.8,6.1',\n",
       " 'versicolor,1.5,4.9,2.5,6.3',\n",
       " 'versicolor,1.2,4.7,2.8,6.1',\n",
       " 'versicolor,1.3,4.3,2.9,6.4',\n",
       " 'versicolor,1.4,4.4,3.0,6.6',\n",
       " 'versicolor,1.4,4.8,2.8,6.8',\n",
       " 'versicolor,1.7,5.0,3.0,6.7',\n",
       " 'versicolor,1.5,4.5,2.9,6.0',\n",
       " 'versicolor,1.0,3.5,2.6,5.7',\n",
       " 'versicolor,1.1,3.8,2.4,5.5',\n",
       " 'versicolor,1.0,3.7,2.4,5.5',\n",
       " 'versicolor,1.2,3.9,2.7,5.8',\n",
       " 'versicolor,1.6,5.1,2.7,6.0',\n",
       " 'versicolor,1.5,4.5,3.0,5.4',\n",
       " 'versicolor,1.6,4.5,3.4,6.0',\n",
       " 'versicolor,1.5,4.7,3.1,6.7',\n",
       " 'versicolor,1.3,4.4,2.3,6.3',\n",
       " 'versicolor,1.3,4.1,3.0,5.6',\n",
       " 'versicolor,1.3,4.0,2.5,5.5',\n",
       " 'versicolor,1.2,4.4,2.6,5.5',\n",
       " 'versicolor,1.4,4.6,3.0,6.1',\n",
       " 'versicolor,1.2,4.0,2.6,5.8',\n",
       " 'versicolor,1.0,3.3,2.3,5.0',\n",
       " 'versicolor,1.3,4.2,2.7,5.6',\n",
       " 'versicolor,1.2,4.2,3.0,5.7',\n",
       " 'versicolor,1.3,4.2,2.9,5.7',\n",
       " 'versicolor,1.3,4.3,2.9,6.2',\n",
       " 'versicolor,1.1,3.0,2.5,5.1',\n",
       " 'versicolor,1.3,4.1,2.8,5.7',\n",
       " 'virginica,2.5,6.0,3.3,6.3',\n",
       " 'virginica,1.9,5.1,2.7,5.8',\n",
       " 'virginica,2.1,5.9,3.0,7.1',\n",
       " 'virginica,1.8,5.6,2.9,6.3',\n",
       " 'virginica,2.2,5.8,3.0,6.5',\n",
       " 'virginica,2.1,6.6,3.0,7.6',\n",
       " 'virginica,1.7,4.5,2.5,4.9',\n",
       " 'virginica,1.8,6.3,2.9,7.3',\n",
       " 'virginica,1.8,5.8,2.5,6.7',\n",
       " 'virginica,2.5,6.1,3.6,7.2',\n",
       " 'virginica,2.0,5.1,3.2,6.5',\n",
       " 'virginica,1.9,5.3,2.7,6.4',\n",
       " 'virginica,2.1,5.5,3.0,6.8',\n",
       " 'virginica,2.0,5.0,2.5,5.7',\n",
       " 'virginica,2.4,5.1,2.8,5.8',\n",
       " 'virginica,2.3,5.3,3.2,6.4',\n",
       " 'virginica,1.8,5.5,3.0,6.5',\n",
       " 'virginica,2.2,6.7,3.8,7.7',\n",
       " 'virginica,2.3,6.9,2.6,7.7',\n",
       " 'virginica,1.5,5.0,2.2,6.0',\n",
       " 'virginica,2.3,5.7,3.2,6.9',\n",
       " 'virginica,2.0,4.9,2.8,5.6',\n",
       " 'virginica,2.0,6.7,2.8,7.7',\n",
       " 'virginica,1.8,4.9,2.7,6.3',\n",
       " 'virginica,2.1,5.7,3.3,6.7',\n",
       " 'virginica,1.8,6.0,3.2,7.2',\n",
       " 'virginica,1.8,4.8,2.8,6.2',\n",
       " 'virginica,1.8,4.9,3.0,6.1',\n",
       " 'virginica,2.1,5.6,2.8,6.4',\n",
       " 'virginica,1.6,5.8,3.0,7.2',\n",
       " 'virginica,1.9,6.1,2.8,7.4',\n",
       " 'virginica,2.0,6.4,3.8,7.9',\n",
       " 'virginica,2.2,5.6,2.8,6.4',\n",
       " 'virginica,1.5,5.1,2.8,6.3',\n",
       " 'virginica,1.4,5.6,2.6,6.1',\n",
       " 'virginica,2.3,6.1,3.0,7.7',\n",
       " 'virginica,2.4,5.6,3.4,6.3',\n",
       " 'virginica,1.8,5.5,3.1,6.4',\n",
       " 'virginica,1.8,4.8,3.0,6.0',\n",
       " 'virginica,2.1,5.4,3.1,6.9',\n",
       " 'virginica,2.4,5.6,3.1,6.7',\n",
       " 'virginica,2.3,5.1,3.1,6.9',\n",
       " 'virginica,1.9,5.1,2.7,5.8',\n",
       " 'virginica,2.3,5.9,3.2,6.8',\n",
       " 'virginica,2.5,5.7,3.3,6.7',\n",
       " 'virginica,2.3,5.2,3.0,6.7',\n",
       " 'virginica,1.9,5.0,2.5,6.3',\n",
       " 'virginica,2.0,5.2,3.0,6.5',\n",
       " 'virginica,2.3,5.4,3.4,6.2',\n",
       " 'virginica,1.8,5.1,3.0,5.9']"
      ]
     },
     "execution_count": 37,
     "metadata": {},
     "output_type": "execute_result"
    }
   ],
   "source": [
    "# https://stackoverflow.com/a/1393367\n",
    "\n",
    "import urllib.request\n",
    "\n",
    "#data retrieved from following url\n",
    "url = r'https://archive.ics.uci.edu/ml/machine-learning-databases/iris/iris.data'\n",
    "\n",
    "#decode the dataset to make it readable for python\n",
    "iris = [line.decode('utf-8').strip() for line in urllib.request.urlopen(url)]\n",
    "\n",
    "#strip \"iris\" from the species names and reverse the columns for each line in the dataset\n",
    "strip_iris = re.compile(r'([0-9]\\.[0-9]),([0-9]\\.[0-9]),([0-9]\\.[0-9]),([0-9]\\.[0-9]),Iris-([a-z]+)')\n",
    "new_iris= [strip_iris.sub(r'\\5,\\4,\\3,\\2,\\1', line) for line in iris if line]\n",
    "new_iris"
   ]
  },
  {
   "cell_type": "code",
   "execution_count": 42,
   "id": "efccadcd",
   "metadata": {},
   "outputs": [
    {
     "ename": "AttributeError",
     "evalue": "'str' object has no attribute 'sub'",
     "output_type": "error",
     "traceback": [
      "\u001b[1;31m---------------------------------------------------------------------------\u001b[0m",
      "\u001b[1;31mAttributeError\u001b[0m                            Traceback (most recent call last)",
      "\u001b[1;32m~\\AppData\\Local\\Temp/ipykernel_16440/3005988758.py\u001b[0m in \u001b[0;36m<module>\u001b[1;34m\u001b[0m\n\u001b[0;32m      2\u001b[0m \u001b[1;32mfor\u001b[0m \u001b[0mline\u001b[0m \u001b[1;32min\u001b[0m \u001b[0miris\u001b[0m\u001b[1;33m:\u001b[0m\u001b[1;33m\u001b[0m\u001b[1;33m\u001b[0m\u001b[0m\n\u001b[0;32m      3\u001b[0m     \u001b[0mnew_iris\u001b[0m\u001b[1;33m=\u001b[0m \u001b[0mstrip_iris\u001b[0m\u001b[1;33m.\u001b[0m\u001b[0msub\u001b[0m\u001b[1;33m(\u001b[0m\u001b[1;34mr'\\5,\\4,\\3,\\2,\\1'\u001b[0m\u001b[1;33m,\u001b[0m \u001b[0mline\u001b[0m\u001b[1;33m)\u001b[0m\u001b[1;33m\u001b[0m\u001b[1;33m\u001b[0m\u001b[0m\n\u001b[1;32m----> 4\u001b[1;33m \u001b[0mnew_iris\u001b[0m\u001b[1;33m=\u001b[0m \u001b[1;33m[\u001b[0m\u001b[0mnew_iris\u001b[0m\u001b[1;33m.\u001b[0m\u001b[0msub\u001b[0m\u001b[1;33m(\u001b[0m\u001b[1;34mr'^\\w+'\u001b[0m\u001b[1;33m,\u001b[0m \u001b[0mline\u001b[0m\u001b[1;33m)\u001b[0m \u001b[1;32mfor\u001b[0m \u001b[0mline\u001b[0m \u001b[1;32min\u001b[0m \u001b[0miris\u001b[0m \u001b[1;32mif\u001b[0m \u001b[0mline\u001b[0m\u001b[1;33m]\u001b[0m\u001b[1;33m\u001b[0m\u001b[1;33m\u001b[0m\u001b[0m\n\u001b[0m\u001b[0;32m      5\u001b[0m \u001b[0mnew_iris\u001b[0m\u001b[1;33m\u001b[0m\u001b[1;33m\u001b[0m\u001b[0m\n",
      "\u001b[1;32m~\\AppData\\Local\\Temp/ipykernel_16440/3005988758.py\u001b[0m in \u001b[0;36m<listcomp>\u001b[1;34m(.0)\u001b[0m\n\u001b[0;32m      2\u001b[0m \u001b[1;32mfor\u001b[0m \u001b[0mline\u001b[0m \u001b[1;32min\u001b[0m \u001b[0miris\u001b[0m\u001b[1;33m:\u001b[0m\u001b[1;33m\u001b[0m\u001b[1;33m\u001b[0m\u001b[0m\n\u001b[0;32m      3\u001b[0m     \u001b[0mnew_iris\u001b[0m\u001b[1;33m=\u001b[0m \u001b[0mstrip_iris\u001b[0m\u001b[1;33m.\u001b[0m\u001b[0msub\u001b[0m\u001b[1;33m(\u001b[0m\u001b[1;34mr'\\5,\\4,\\3,\\2,\\1'\u001b[0m\u001b[1;33m,\u001b[0m \u001b[0mline\u001b[0m\u001b[1;33m)\u001b[0m\u001b[1;33m\u001b[0m\u001b[1;33m\u001b[0m\u001b[0m\n\u001b[1;32m----> 4\u001b[1;33m \u001b[0mnew_iris\u001b[0m\u001b[1;33m=\u001b[0m \u001b[1;33m[\u001b[0m\u001b[0mnew_iris\u001b[0m\u001b[1;33m.\u001b[0m\u001b[0msub\u001b[0m\u001b[1;33m(\u001b[0m\u001b[1;34mr'^\\w+'\u001b[0m\u001b[1;33m,\u001b[0m \u001b[0mline\u001b[0m\u001b[1;33m)\u001b[0m \u001b[1;32mfor\u001b[0m \u001b[0mline\u001b[0m \u001b[1;32min\u001b[0m \u001b[0miris\u001b[0m \u001b[1;32mif\u001b[0m \u001b[0mline\u001b[0m\u001b[1;33m]\u001b[0m\u001b[1;33m\u001b[0m\u001b[1;33m\u001b[0m\u001b[0m\n\u001b[0m\u001b[0;32m      5\u001b[0m \u001b[0mnew_iris\u001b[0m\u001b[1;33m\u001b[0m\u001b[1;33m\u001b[0m\u001b[0m\n",
      "\u001b[1;31mAttributeError\u001b[0m: 'str' object has no attribute 'sub'"
     ]
    }
   ],
   "source": [
    "strip_iris = re.compile(r'([0-9]\\.[0-9]),([0-9]\\.[0-9]),([0-9]\\.[0-9]),([0-9]\\.[0-9]),Iris-([a-z]+)')\n",
    "for line in iris:\n",
    "    new_iris= strip_iris.sub(r'\\5,\\4,\\3,\\2,\\1', line) \n",
    "new_iris= [new_iris.sub(r'^\\w+', line) for line in iris if line]\n",
    "new_iris"
   ]
  },
  {
   "cell_type": "code",
   "execution_count": 32,
   "id": "4005ee22",
   "metadata": {},
   "outputs": [
    {
     "data": {
      "text/plain": [
       "'Setosa'"
      ]
     },
     "execution_count": 32,
     "metadata": {},
     "output_type": "execute_result"
    }
   ],
   "source": [
    "iris = ['setosa','versicolor','virginica']\n",
    "def Capitalize(str):\n",
    "    str=str.title()\n",
    "    return str\n",
    "\n",
    "for s in iris:\n",
    "    new_iris = re.sub(r\"s\",,text)\n",
    "    "
   ]
  },
  {
   "cell_type": "code",
   "execution_count": 36,
   "id": "eadb430c",
   "metadata": {},
   "outputs": [
    {
     "ename": "TypeError",
     "evalue": "expected string or bytes-like object",
     "output_type": "error",
     "traceback": [
      "\u001b[1;31m---------------------------------------------------------------------------\u001b[0m",
      "\u001b[1;31mTypeError\u001b[0m                                 Traceback (most recent call last)",
      "\u001b[1;32m~\\AppData\\Local\\Temp/ipykernel_16440/2484606328.py\u001b[0m in \u001b[0;36m<module>\u001b[1;34m\u001b[0m\n\u001b[1;32m----> 1\u001b[1;33m \u001b[0mnew_iris\u001b[0m \u001b[1;33m=\u001b[0m \u001b[0mre\u001b[0m\u001b[1;33m.\u001b[0m\u001b[0mfindall\u001b[0m\u001b[1;33m(\u001b[0m\u001b[1;34mr\"^\\w+\"\u001b[0m\u001b[1;33m,\u001b[0m\u001b[0mnew_iris\u001b[0m\u001b[1;33m)\u001b[0m\u001b[1;33m\u001b[0m\u001b[1;33m\u001b[0m\u001b[0m\n\u001b[0m\u001b[0;32m      2\u001b[0m \u001b[0mprint\u001b[0m\u001b[1;33m(\u001b[0m\u001b[0mnew_iris\u001b[0m\u001b[1;33m)\u001b[0m\u001b[1;33m\u001b[0m\u001b[1;33m\u001b[0m\u001b[0m\n",
      "\u001b[1;32m~\\anaconda3\\lib\\re.py\u001b[0m in \u001b[0;36mfindall\u001b[1;34m(pattern, string, flags)\u001b[0m\n\u001b[0;32m    239\u001b[0m \u001b[1;33m\u001b[0m\u001b[0m\n\u001b[0;32m    240\u001b[0m     Empty matches are included in the result.\"\"\"\n\u001b[1;32m--> 241\u001b[1;33m     \u001b[1;32mreturn\u001b[0m \u001b[0m_compile\u001b[0m\u001b[1;33m(\u001b[0m\u001b[0mpattern\u001b[0m\u001b[1;33m,\u001b[0m \u001b[0mflags\u001b[0m\u001b[1;33m)\u001b[0m\u001b[1;33m.\u001b[0m\u001b[0mfindall\u001b[0m\u001b[1;33m(\u001b[0m\u001b[0mstring\u001b[0m\u001b[1;33m)\u001b[0m\u001b[1;33m\u001b[0m\u001b[1;33m\u001b[0m\u001b[0m\n\u001b[0m\u001b[0;32m    242\u001b[0m \u001b[1;33m\u001b[0m\u001b[0m\n\u001b[0;32m    243\u001b[0m \u001b[1;32mdef\u001b[0m \u001b[0mfinditer\u001b[0m\u001b[1;33m(\u001b[0m\u001b[0mpattern\u001b[0m\u001b[1;33m,\u001b[0m \u001b[0mstring\u001b[0m\u001b[1;33m,\u001b[0m \u001b[0mflags\u001b[0m\u001b[1;33m=\u001b[0m\u001b[1;36m0\u001b[0m\u001b[1;33m)\u001b[0m\u001b[1;33m:\u001b[0m\u001b[1;33m\u001b[0m\u001b[1;33m\u001b[0m\u001b[0m\n",
      "\u001b[1;31mTypeError\u001b[0m: expected string or bytes-like object"
     ]
    }
   ],
   "source": [
    "new_iris = re.findall(r\"^\\w+\",new_iris)\n",
    "print(new_iris)"
   ]
  },
  {
   "cell_type": "code",
   "execution_count": null,
   "id": "7e444806",
   "metadata": {},
   "outputs": [],
   "source": []
  }
 ],
 "metadata": {
  "kernelspec": {
   "display_name": "Python 3 (ipykernel)",
   "language": "python",
   "name": "python3"
  },
  "language_info": {
   "codemirror_mode": {
    "name": "ipython",
    "version": 3
   },
   "file_extension": ".py",
   "mimetype": "text/x-python",
   "name": "python",
   "nbconvert_exporter": "python",
   "pygments_lexer": "ipython3",
   "version": "3.9.7"
  }
 },
 "nbformat": 4,
 "nbformat_minor": 5
}
