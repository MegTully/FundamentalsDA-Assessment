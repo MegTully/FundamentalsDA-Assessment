{
 "cells": [
  {
   "cell_type": "markdown",
   "id": "0933d81f",
   "metadata": {},
   "source": [
    "<h1><u>Exercise 1</u></h1>\n",
    "It is somewhat interesting that (5 * 4 * 3 * 2 * 1) perfectly divides (10 * 9 * 8 * 7 * 6) - there's no remainder.\n",
    "\n",
    "If we only wanted exactly four heads as opposed to five, the equivalent calculation would be (10 * 9 * 8 * 7) / (4 * 3 * 2 * 1).\n",
    "\n",
    "Does that evenly divide too?"
   ]
  },
  {
   "cell_type": "code",
   "execution_count": 1,
   "id": "b9108f0d",
   "metadata": {},
   "outputs": [
    {
     "data": {
      "text/plain": [
       "210.0"
      ]
     },
     "execution_count": 1,
     "metadata": {},
     "output_type": "execute_result"
    }
   ],
   "source": [
    "#Calculation to see if it divides evenly\n",
    "(10 * 9 * 8 * 7) / (4 * 3 * 2 * 1)"
   ]
  },
  {
   "cell_type": "markdown",
   "id": "7b8aa1d6",
   "metadata": {},
   "source": [
    "The answer we get is 210 with no remainder so yes it does divide in evenly"
   ]
  },
  {
   "cell_type": "markdown",
   "id": "a7b1b20b",
   "metadata": {},
   "source": [
    "What is the formula in general?"
   ]
  },
  {
   "cell_type": "markdown",
   "id": "e3142ba3",
   "metadata": {},
   "source": [
    "The general formula is called the Binomial Distribution Formula:\n",
    "\n",
    "                P(x:n,p)= nCx(px(1-p)n-x)\n",
    "n = the number of experiments (10 in this case)\n",
    "\n",
    "x = the amount of successes(number of heads which is 5 in this case)\n",
    "\n",
    "p = Probability of success in a single experiment (0.5 in this case)"
   ]
  },
  {
   "cell_type": "code",
   "execution_count": null,
   "id": "b0b31f04",
   "metadata": {},
   "outputs": [],
   "source": []
  },
  {
   "cell_type": "markdown",
   "id": "cd63eb61",
   "metadata": {},
   "source": [
    "Does it always come out as a positive whole number?"
   ]
  },
  {
   "cell_type": "markdown",
   "id": "6afe4043",
   "metadata": {},
   "source": [
    "<h1><u>Exercise 2</u></h1>\n",
    "\n",
    "Note that there are the same number of ways to get 4 tails as there to get 4 heads. Explain why this is.\n"
   ]
  },
  {
   "cell_type": "markdown",
   "id": "ae13e891",
   "metadata": {},
   "source": []
  }
 ],
 "metadata": {
  "kernelspec": {
   "display_name": "Python 3 (ipykernel)",
   "language": "python",
   "name": "python3"
  },
  "language_info": {
   "codemirror_mode": {
    "name": "ipython",
    "version": 3
   },
   "file_extension": ".py",
   "mimetype": "text/x-python",
   "name": "python",
   "nbconvert_exporter": "python",
   "pygments_lexer": "ipython3",
   "version": "3.9.7"
  }
 },
 "nbformat": 4,
 "nbformat_minor": 5
}
