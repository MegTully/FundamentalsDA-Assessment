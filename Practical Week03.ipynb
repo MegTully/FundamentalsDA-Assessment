{
 "cells": [
  {
   "cell_type": "markdown",
   "id": "e9cc4a71",
   "metadata": {},
   "source": [
    "<h1>Exercise</h1>"
   ]
  },
  {
   "cell_type": "markdown",
   "id": "017d5624",
   "metadata": {},
   "source": [
    "<h4>Question:</h4> Explain why the log of zero is undefined"
   ]
  },
  {
   "cell_type": "markdown",
   "id": "e99fa08b",
   "metadata": {},
   "source": [
    "The log of zero is undefined because there is no case such that you will have a number x to the power of y that will result in 0."
   ]
  },
  {
   "cell_type": "markdown",
   "id": "24faf6af",
   "metadata": {},
   "source": [
    "i.e $𝑋^𝑦≠0$,𝑓𝑜𝑟 𝑎𝑛𝑦 𝑣𝑎𝑙𝑢𝑒 𝑜𝑓 𝑥 𝑜𝑟 𝑦"
   ]
  }
 ],
 "metadata": {
  "kernelspec": {
   "display_name": "Python 3 (ipykernel)",
   "language": "python",
   "name": "python3"
  },
  "language_info": {
   "codemirror_mode": {
    "name": "ipython",
    "version": 3
   },
   "file_extension": ".py",
   "mimetype": "text/x-python",
   "name": "python",
   "nbconvert_exporter": "python",
   "pygments_lexer": "ipython3",
   "version": "3.9.7"
  }
 },
 "nbformat": 4,
 "nbformat_minor": 5
}
