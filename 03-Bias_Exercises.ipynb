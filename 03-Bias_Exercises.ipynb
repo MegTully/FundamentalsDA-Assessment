{
 "cells": [
  {
   "cell_type": "markdown",
   "id": "c20d5a18",
   "metadata": {},
   "source": [
    "## Exercise 1\n",
    "***\n",
    "<h4>Question:</h4>\n",
    "Give three real-world examples of different types of cognitive bias [1][2]"
   ]
  },
  {
   "cell_type": "markdown",
   "id": "6a2de3b1",
   "metadata": {},
   "source": [
    "#### Example 1: Examiners correcting exams\n",
    "For the Leaving Certificate oral exams in Ireland students get examined individually by an examiner. Each student goes into a room and has a conversation in the language they are being examined on. Lets say we have 3 students doing a French oral, Mary, John and Joe. Mary is good at speaking French and usually scores around 86% which is an \"A\" grade but its only 1% higher than getting a \"B\" grade (85%). John is top of the class and usually scores around 98%. Joe isn't very good at speaking French and usually scores around 50%. \n",
    "\n",
    "If Mary has her exam after John it is likely she will score lower than usual and would probably get a \"B\" instead of an \"A\" because John will have left an extremely good impression on the examiner. Whereas if Mary has her exam after Joe she would probably get a higher grade \"A\" than usual because Joe wouldn't have left a great impression.\n",
    "\n",
    "This is due to the cognitive bias of the examiner."
   ]
  },
  {
   "cell_type": "markdown",
   "id": "776e6e3d",
   "metadata": {},
   "source": [
    "#### Example 2: Sales\n",
    "Some stores are known to always have sales on so that people assume its the best place to go shop when they see loads of discounted prices without checking out/researching prices in other shops. Or maybe they checked one other shop with dearer prices so they assume these discounted prices are great value. However, if they looked around or researched they could see that these discounted prices are normal prices in other shops.\n",
    "\n",
    "For example plenty of people go straight to booking.com to book hotels as they usually have great deals. However this is not always the case, sometimes the official hotel websites contain better deals but people don't check they are confident that booking.com has the best deals without backing up their decision.  "
   ]
  },
  {
   "cell_type": "markdown",
   "id": "6825af83",
   "metadata": {},
   "source": [
    "#### Example 3: \"Everything is clearer in hindsight\"\n",
    "\n",
    "This saying is an example of cognitive bias where people believe they knew something that was unpredictable was going to happen. An example of this is when people watch a movie they have never seen before and they are trying to figure out the ending but it's only when the movie is over and they convince themselves they knew that's how the movie would end but if they were asked before it ended they would have been unsure."
   ]
  },
  {
   "cell_type": "markdown",
   "id": "0d2b5675",
   "metadata": {},
   "source": [
    "## Optional Exercise\n",
    "***\n",
    "<h4>Question:</h4>\n",
    "Calculate the standard deviation of the following two arrays:\n",
    "\n",
    "numbers1 = [1, 1, 1, 1, 10],\n",
    "numbers2 = [2, 2, 3, 3, 4]"
   ]
  },
  {
   "cell_type": "code",
   "execution_count": 4,
   "id": "87a70987",
   "metadata": {},
   "outputs": [],
   "source": [
    "#import the numpy package\n",
    "import numpy as np\n",
    "#define both arrays\n",
    "numbers1 = np.array([1, 1, 1, 1, 10])\n",
    "numbers2 = np.array([2, 2, 3, 3, 4])"
   ]
  },
  {
   "cell_type": "code",
   "execution_count": 5,
   "id": "b0e83c48",
   "metadata": {},
   "outputs": [
    {
     "data": {
      "text/plain": [
       "3.6"
      ]
     },
     "execution_count": 5,
     "metadata": {},
     "output_type": "execute_result"
    }
   ],
   "source": [
    "#calculate the st dev of numbers1 array\n",
    "numbers1.std()"
   ]
  },
  {
   "cell_type": "code",
   "execution_count": 6,
   "id": "1882a2aa",
   "metadata": {},
   "outputs": [
    {
     "data": {
      "text/plain": [
       "0.7483314773547882"
      ]
     },
     "execution_count": 6,
     "metadata": {},
     "output_type": "execute_result"
    }
   ],
   "source": [
    "##calculate the st dev of numbers2 array\n",
    "numbers2.std()"
   ]
  },
  {
   "cell_type": "markdown",
   "id": "be81284a",
   "metadata": {},
   "source": [
    "The standard deviation of the two arrays are very different when the means are the same (both 2.8)"
   ]
  },
  {
   "cell_type": "markdown",
   "id": "92db7f40",
   "metadata": {},
   "source": [
    "## Exercise 2\n",
    "***\n",
    "<h4>Question:</h4>"
   ]
  },
  {
   "cell_type": "markdown",
   "id": "568a6439",
   "metadata": {},
   "source": [
    "Show that the difference between the standard deviation calculations is greatest for small sample sizes\n",
    "\n",
    "Another way to ask this question would be to show that Bessel's correction (shown below) is bigger for smaller sample sizes."
   ]
  },
  {
   "cell_type": "markdown",
   "id": "24555cd6",
   "metadata": {},
   "source": [
    "Bessel's correction = $$ n\\over n-1 $$"
   ]
  },
  {
   "cell_type": "markdown",
   "id": "822acfae",
   "metadata": {},
   "source": [
    "Let's try out a few different values for n:"
   ]
  },
  {
   "cell_type": "code",
   "execution_count": 63,
   "id": "ec72c222",
   "metadata": {},
   "outputs": [
    {
     "name": "stdout",
     "output_type": "stream",
     "text": [
      "Bessel Corrections:  [2.0, 1.5, 1.3333333333333333, 1.25, 1.2, 1.1666666666666667, 1.1428571428571428, 1.125, 1.1111111111111112, 1.0909090909090908, 1.0714285714285714, 1.0588235294117647, 1.0555555555555556, 1.0416666666666667, 1.037037037037037, 1.0344827586206897, 1.0294117647058822, 1.0256410256410255, 1.0227272727272727, 1.0204081632653061, 1.0185185185185186, 1.0169491525423728, 1.015625, 1.0144927536231885, 1.0126582278481013, 1.0112359550561798, 1.0101010101010102, 1.0067114093959733, 1.0050251256281406, 1.0033444816053512, 1.0025062656641603, 1.002004008016032, 1.001001001001001]\n"
     ]
    }
   ],
   "source": [
    "#Create an empty array for a list of calculated bessel corrections\n",
    "b=[]\n",
    "#Create an array of increasing sample sizes\n",
    "N=[2,3,4,5,6,7,8,9,10,12,15,18,19,25,28,30,35,40,45,50,55,60,65,70,80,90,100,150,200,300,400,500,1000]\n",
    "#For each sample size in the N array calculate it's bessel correction called c and then add those and then add those \n",
    "#calculations to the array b\n",
    "for n in N:\n",
    "    c= (n/(n-1))\n",
    "    b.append(c)\n",
    "#print the array of bessel corrections    \n",
    "print(\"Bessel Corrections: \", b)"
   ]
  },
  {
   "cell_type": "markdown",
   "id": "663a238c",
   "metadata": {},
   "source": [
    "As you can see above the values for $ n\\over n-1 $ increases as the value for n increases which shows the difference between the standard deviation calculation is greatest for small sample sizes."
   ]
  },
  {
   "cell_type": "code",
   "execution_count": 65,
   "id": "5d3c5bae",
   "metadata": {},
   "outputs": [
    {
     "data": {
      "text/plain": [
       "<matplotlib.collections.PathCollection at 0x255bc46c9d0>"
      ]
     },
     "execution_count": 65,
     "metadata": {},
     "output_type": "execute_result"
    },
    {
     "data": {
      "image/png": "[encoded data removed]",
      "text/plain": [
       "<Figure size 864x432 with 1 Axes>"
      ]
     },
     "metadata": {
      "needs_background": "light"
     },
     "output_type": "display_data"
    }
   ],
   "source": [
    "#import matplotlib\n",
    "import matplotlib.pyplot as plt\n",
    "# View a scatter plot \n",
    "fig, ax = plt.subplots(figsize=(12, 6))\n",
    "#set axis labels\n",
    "plt.xlabel(\"Bessel's Correction\")\n",
    "plt.ylabel(\"Sample Size\")\n",
    "plt.scatter(b,N)"
   ]
  },
  {
   "cell_type": "markdown",
   "id": "4afebdd8",
   "metadata": {},
   "source": [
    "### Explanation: [3][4]\n",
    "The reason we use Bessel's correction is because when we take a sample from a population it tends to underestimate the statistics of the population so we use this calculation to help reduce this error/bias found in the sample of the population. Therefore it makes sense that we need a bigger correction for a smaller sample size because the smaller a sample size is, the less representative it will be of the actual population. "
   ]
  },
  {
   "cell_type": "markdown",
   "id": "22f74f69",
   "metadata": {},
   "source": [
    "### References:\n",
    "[1]https://www.verywellmind.com/what-is-a-cognitive-bias-2794963#:~:text=Only%20paying%20attention%20to%20news,shares%20your%20opinions%20or%20beliefs\n",
    "\n",
    "[2]https://www.simplypsychology.org/cognitive-bias.html\n",
    "\n",
    "[3]https://www.statisticshowto.com/bessels-correction/\n",
    "\n",
    "[4]https://dfrieds.com/math/bessels-correction.html"
   ]
  }
 ],
 "metadata": {
  "kernelspec": {
   "display_name": "Python 3 (ipykernel)",
   "language": "python",
   "name": "python3"
  },
  "language_info": {
   "codemirror_mode": {
    "name": "ipython",
    "version": 3
   },
   "file_extension": ".py",
   "mimetype": "text/x-python",
   "name": "python",
   "nbconvert_exporter": "python",
   "pygments_lexer": "ipython3",
   "version": "3.9.7"
  }
 },
 "nbformat": 4,
 "nbformat_minor": 5
}
