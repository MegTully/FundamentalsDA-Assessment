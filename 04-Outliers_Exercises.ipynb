{
 "cells": [
  {
   "cell_type": "markdown",
   "id": "edb4ab82",
   "metadata": {},
   "source": [
    "## Exercise 1\n",
    "***\n",
    "<h4>Question:</h4>\n",
    "Create box plots on a single set of axes for all five experiments in the morley data set"
   ]
  },
  {
   "cell_type": "code",
   "execution_count": 1,
   "id": "54e92760",
   "metadata": {},
   "outputs": [],
   "source": [
    "# Numerical arrays.\n",
    "import numpy as np\n",
    "\n",
    "# Plotting.\n",
    "import matplotlib.pyplot as plt\n",
    "\n",
    "# Statistics.\n",
    "import scipy.stats as ss"
   ]
  },
  {
   "cell_type": "code",
   "execution_count": 46,
   "id": "870c5151",
   "metadata": {},
   "outputs": [],
   "source": [
    "# Read in the morley data.\n",
    "data = np.genfromtxt('Data/morley.csv', skip_header=1, delimiter=',', deletechars='\"')\n",
    "\n",
    "# Remove the first column.\n",
    "data = data[:,1:]"
   ]
  },
  {
   "cell_type": "code",
   "execution_count": 51,
   "id": "cab8fb63",
   "metadata": {},
   "outputs": [
    {
     "data": {
      "text/plain": [
       "array([[ 850.,  960.,  880.,  890.,  890.],\n",
       "       [ 740.,  940.,  880.,  810.,  840.],\n",
       "       [ 900.,  960.,  880.,  810.,  780.],\n",
       "       [1070.,  940.,  860.,  820.,  810.],\n",
       "       [ 930.,  880.,  720.,  800.,  760.],\n",
       "       [ 850.,  800.,  720.,  770.,  810.],\n",
       "       [ 950.,  850.,  620.,  760.,  790.],\n",
       "       [ 980.,  880.,  860.,  740.,  810.],\n",
       "       [ 980.,  900.,  970.,  750.,  820.],\n",
       "       [ 880.,  840.,  950.,  760.,  850.],\n",
       "       [1000.,  830.,  880.,  910.,  870.],\n",
       "       [ 980.,  790.,  910.,  920.,  870.],\n",
       "       [ 930.,  810.,  850.,  890.,  810.],\n",
       "       [ 650.,  880.,  870.,  860.,  740.],\n",
       "       [ 760.,  880.,  840.,  880.,  810.],\n",
       "       [ 810.,  830.,  840.,  720.,  940.],\n",
       "       [1000.,  800.,  850.,  840.,  950.],\n",
       "       [1000.,  790.,  840.,  850.,  800.],\n",
       "       [ 960.,  760.,  840.,  850.,  810.],\n",
       "       [ 960.,  800.,  840.,  780.,  870.]])"
      ]
     },
     "execution_count": 51,
     "metadata": {},
     "output_type": "execute_result"
    }
   ],
   "source": [
    "# A quick way to get the five experiments in different columns.\n",
    "exper=data[:,2].reshape(5, 20).T\n",
    "exper"
   ]
  },
  {
   "cell_type": "code",
   "execution_count": 50,
   "id": "7ff82b2c",
   "metadata": {},
   "outputs": [
    {
     "data": {
      "image/png": "[encoded data removed]",
      "text/plain": [
       "<Figure size 1152x432 with 1 Axes>"
      ]
     },
     "metadata": {
      "needs_background": "light"
     },
     "output_type": "display_data"
    }
   ],
   "source": [
    "# Create a box plot.\n",
    "fig, ax = plt.subplots(figsize=(16, 6))\n",
    "outliers = dict(markerfacecolor='g', marker='o')\n",
    "labels = ['exper_1', 'exper_2', 'exper_3', 'exper_4', 'exper_5']\n",
    "ax.set_title('Morley Data Set')\n",
    "ax.boxplot(exper,flierprops=outliers, labels = labels);"
   ]
  },
  {
   "cell_type": "markdown",
   "id": "db4feca6",
   "metadata": {},
   "source": [
    "#### References:\n",
    "[1] https://matplotlib.org/3.1.1/gallery/pyplots/boxplot_demo_pyplot.html#sphx-glr-gallery-pyplots-boxplot-demo-pyplot-py\n",
    "\n",
    "[2] https://matplotlib.org/stable/gallery/statistics/boxplot_color.html"
   ]
  },
  {
   "cell_type": "markdown",
   "id": "41ef7b88",
   "metadata": {},
   "source": [
    "## Exercise 2\n",
    "***\n",
    "<h4>Question:</h4>\n",
    "Create box plots for all of the numercial variables in Fisher's Iris Data Set"
   ]
  },
  {
   "cell_type": "code",
   "execution_count": 55,
   "id": "f264b823",
   "metadata": {},
   "outputs": [
    {
     "data": {
      "text/plain": [
       "array([[5.1, 3.5, 1.4, 0.2],\n",
       "       [4.9, 3. , 1.4, 0.2],\n",
       "       [4.7, 3.2, 1.3, 0.2],\n",
       "       [4.6, 3.1, 1.5, 0.2],\n",
       "       [5. , 3.6, 1.4, 0.2],\n",
       "       [5.4, 3.9, 1.7, 0.4],\n",
       "       [4.6, 3.4, 1.4, 0.3],\n",
       "       [5. , 3.4, 1.5, 0.2],\n",
       "       [4.4, 2.9, 1.4, 0.2],\n",
       "       [4.9, 3.1, 1.5, 0.1],\n",
       "       [5.4, 3.7, 1.5, 0.2],\n",
       "       [4.8, 3.4, 1.6, 0.2],\n",
       "       [4.8, 3. , 1.4, 0.1],\n",
       "       [4.3, 3. , 1.1, 0.1],\n",
       "       [5.8, 4. , 1.2, 0.2],\n",
       "       [5.7, 4.4, 1.5, 0.4],\n",
       "       [5.4, 3.9, 1.3, 0.4],\n",
       "       [5.1, 3.5, 1.4, 0.3],\n",
       "       [5.7, 3.8, 1.7, 0.3],\n",
       "       [5.1, 3.8, 1.5, 0.3],\n",
       "       [5.4, 3.4, 1.7, 0.2],\n",
       "       [5.1, 3.7, 1.5, 0.4],\n",
       "       [4.6, 3.6, 1. , 0.2],\n",
       "       [5.1, 3.3, 1.7, 0.5],\n",
       "       [4.8, 3.4, 1.9, 0.2],\n",
       "       [5. , 3. , 1.6, 0.2],\n",
       "       [5. , 3.4, 1.6, 0.4],\n",
       "       [5.2, 3.5, 1.5, 0.2],\n",
       "       [5.2, 3.4, 1.4, 0.2],\n",
       "       [4.7, 3.2, 1.6, 0.2],\n",
       "       [4.8, 3.1, 1.6, 0.2],\n",
       "       [5.4, 3.4, 1.5, 0.4],\n",
       "       [5.2, 4.1, 1.5, 0.1],\n",
       "       [5.5, 4.2, 1.4, 0.2],\n",
       "       [4.9, 3.1, 1.5, 0.1],\n",
       "       [5. , 3.2, 1.2, 0.2],\n",
       "       [5.5, 3.5, 1.3, 0.2],\n",
       "       [4.9, 3.1, 1.5, 0.1],\n",
       "       [4.4, 3. , 1.3, 0.2],\n",
       "       [5.1, 3.4, 1.5, 0.2],\n",
       "       [5. , 3.5, 1.3, 0.3],\n",
       "       [4.5, 2.3, 1.3, 0.3],\n",
       "       [4.4, 3.2, 1.3, 0.2],\n",
       "       [5. , 3.5, 1.6, 0.6],\n",
       "       [5.1, 3.8, 1.9, 0.4],\n",
       "       [4.8, 3. , 1.4, 0.3],\n",
       "       [5.1, 3.8, 1.6, 0.2],\n",
       "       [4.6, 3.2, 1.4, 0.2],\n",
       "       [5.3, 3.7, 1.5, 0.2],\n",
       "       [5. , 3.3, 1.4, 0.2],\n",
       "       [7. , 3.2, 4.7, 1.4],\n",
       "       [6.4, 3.2, 4.5, 1.5],\n",
       "       [6.9, 3.1, 4.9, 1.5],\n",
       "       [5.5, 2.3, 4. , 1.3],\n",
       "       [6.5, 2.8, 4.6, 1.5],\n",
       "       [5.7, 2.8, 4.5, 1.3],\n",
       "       [6.3, 3.3, 4.7, 1.6],\n",
       "       [4.9, 2.4, 3.3, 1. ],\n",
       "       [6.6, 2.9, 4.6, 1.3],\n",
       "       [5.2, 2.7, 3.9, 1.4],\n",
       "       [5. , 2. , 3.5, 1. ],\n",
       "       [5.9, 3. , 4.2, 1.5],\n",
       "       [6. , 2.2, 4. , 1. ],\n",
       "       [6.1, 2.9, 4.7, 1.4],\n",
       "       [5.6, 2.9, 3.6, 1.3],\n",
       "       [6.7, 3.1, 4.4, 1.4],\n",
       "       [5.6, 3. , 4.5, 1.5],\n",
       "       [5.8, 2.7, 4.1, 1. ],\n",
       "       [6.2, 2.2, 4.5, 1.5],\n",
       "       [5.6, 2.5, 3.9, 1.1],\n",
       "       [5.9, 3.2, 4.8, 1.8],\n",
       "       [6.1, 2.8, 4. , 1.3],\n",
       "       [6.3, 2.5, 4.9, 1.5],\n",
       "       [6.1, 2.8, 4.7, 1.2],\n",
       "       [6.4, 2.9, 4.3, 1.3],\n",
       "       [6.6, 3. , 4.4, 1.4],\n",
       "       [6.8, 2.8, 4.8, 1.4],\n",
       "       [6.7, 3. , 5. , 1.7],\n",
       "       [6. , 2.9, 4.5, 1.5],\n",
       "       [5.7, 2.6, 3.5, 1. ],\n",
       "       [5.5, 2.4, 3.8, 1.1],\n",
       "       [5.5, 2.4, 3.7, 1. ],\n",
       "       [5.8, 2.7, 3.9, 1.2],\n",
       "       [6. , 2.7, 5.1, 1.6],\n",
       "       [5.4, 3. , 4.5, 1.5],\n",
       "       [6. , 3.4, 4.5, 1.6],\n",
       "       [6.7, 3.1, 4.7, 1.5],\n",
       "       [6.3, 2.3, 4.4, 1.3],\n",
       "       [5.6, 3. , 4.1, 1.3],\n",
       "       [5.5, 2.5, 4. , 1.3],\n",
       "       [5.5, 2.6, 4.4, 1.2],\n",
       "       [6.1, 3. , 4.6, 1.4],\n",
       "       [5.8, 2.6, 4. , 1.2],\n",
       "       [5. , 2.3, 3.3, 1. ],\n",
       "       [5.6, 2.7, 4.2, 1.3],\n",
       "       [5.7, 3. , 4.2, 1.2],\n",
       "       [5.7, 2.9, 4.2, 1.3],\n",
       "       [6.2, 2.9, 4.3, 1.3],\n",
       "       [5.1, 2.5, 3. , 1.1],\n",
       "       [5.7, 2.8, 4.1, 1.3],\n",
       "       [6.3, 3.3, 6. , 2.5],\n",
       "       [5.8, 2.7, 5.1, 1.9],\n",
       "       [7.1, 3. , 5.9, 2.1],\n",
       "       [6.3, 2.9, 5.6, 1.8],\n",
       "       [6.5, 3. , 5.8, 2.2],\n",
       "       [7.6, 3. , 6.6, 2.1],\n",
       "       [4.9, 2.5, 4.5, 1.7],\n",
       "       [7.3, 2.9, 6.3, 1.8],\n",
       "       [6.7, 2.5, 5.8, 1.8],\n",
       "       [7.2, 3.6, 6.1, 2.5],\n",
       "       [6.5, 3.2, 5.1, 2. ],\n",
       "       [6.4, 2.7, 5.3, 1.9],\n",
       "       [6.8, 3. , 5.5, 2.1],\n",
       "       [5.7, 2.5, 5. , 2. ],\n",
       "       [5.8, 2.8, 5.1, 2.4],\n",
       "       [6.4, 3.2, 5.3, 2.3],\n",
       "       [6.5, 3. , 5.5, 1.8],\n",
       "       [7.7, 3.8, 6.7, 2.2],\n",
       "       [7.7, 2.6, 6.9, 2.3],\n",
       "       [6. , 2.2, 5. , 1.5],\n",
       "       [6.9, 3.2, 5.7, 2.3],\n",
       "       [5.6, 2.8, 4.9, 2. ],\n",
       "       [7.7, 2.8, 6.7, 2. ],\n",
       "       [6.3, 2.7, 4.9, 1.8],\n",
       "       [6.7, 3.3, 5.7, 2.1],\n",
       "       [7.2, 3.2, 6. , 1.8],\n",
       "       [6.2, 2.8, 4.8, 1.8],\n",
       "       [6.1, 3. , 4.9, 1.8],\n",
       "       [6.4, 2.8, 5.6, 2.1],\n",
       "       [7.2, 3. , 5.8, 1.6],\n",
       "       [7.4, 2.8, 6.1, 1.9],\n",
       "       [7.9, 3.8, 6.4, 2. ],\n",
       "       [6.4, 2.8, 5.6, 2.2],\n",
       "       [6.3, 2.8, 5.1, 1.5],\n",
       "       [6.1, 2.6, 5.6, 1.4],\n",
       "       [7.7, 3. , 6.1, 2.3],\n",
       "       [6.3, 3.4, 5.6, 2.4],\n",
       "       [6.4, 3.1, 5.5, 1.8],\n",
       "       [6. , 3. , 4.8, 1.8],\n",
       "       [6.9, 3.1, 5.4, 2.1],\n",
       "       [6.7, 3.1, 5.6, 2.4],\n",
       "       [6.9, 3.1, 5.1, 2.3],\n",
       "       [5.8, 2.7, 5.1, 1.9],\n",
       "       [6.8, 3.2, 5.9, 2.3],\n",
       "       [6.7, 3.3, 5.7, 2.5],\n",
       "       [6.7, 3. , 5.2, 2.3],\n",
       "       [6.3, 2.5, 5. , 1.9],\n",
       "       [6.5, 3. , 5.2, 2. ],\n",
       "       [6.2, 3.4, 5.4, 2.3],\n",
       "       [5.9, 3. , 5.1, 1.8]])"
      ]
     },
     "execution_count": 55,
     "metadata": {},
     "output_type": "execute_result"
    }
   ],
   "source": [
    "# Read in the iris data.\n",
    "data = np.genfromtxt('Data/iris.csv', delimiter=',')\n",
    "# Remove the last column.\n",
    "data = data[:,:-1]\n",
    "data"
   ]
  },
  {
   "cell_type": "code",
   "execution_count": 57,
   "id": "39cc1e02",
   "metadata": {},
   "outputs": [
    {
     "data": {
      "image/png": "[encoded data removed]",
      "text/plain": [
       "<Figure size 1152x432 with 1 Axes>"
      ]
     },
     "metadata": {
      "needs_background": "light"
     },
     "output_type": "display_data"
    }
   ],
   "source": [
    "# Create a box plot.\n",
    "fig, ax = plt.subplots(figsize=(16, 6))\n",
    "outliers = dict(markerfacecolor='m', marker='o')\n",
    "labels = ['sepal length cm', 'sepal width cm', 'petal length cm', 'petal width cm']\n",
    "ax.set_title('Iris Data Set')\n",
    "ax.boxplot(data,flierprops=outliers, labels = labels);"
   ]
  },
  {
   "cell_type": "markdown",
   "id": "787ae596",
   "metadata": {},
   "source": [
    "#### References:\n",
    "[1] https://archive.ics.uci.edu/ml/machine-learning-databases/iris/"
   ]
  },
  {
   "cell_type": "markdown",
   "id": "3f293ac8",
   "metadata": {},
   "source": [
    "## Exercise 3\n",
    "***\n",
    "<h4>Question:</h4>\n",
    "Adapt code in lecture and plots so that the overall plot is inversely propertional and the individual groups are directly proportional."
   ]
  },
  {
   "cell_type": "code",
   "execution_count": 74,
   "id": "38bdddd8",
   "metadata": {},
   "outputs": [],
   "source": [
    "# Create a series of x vectors.\n",
    "xs = np.array([np.linspace(i, i + 2.0, 20) for i in range(10)])"
   ]
  },
  {
   "cell_type": "code",
   "execution_count": 75,
   "id": "7a3bdad6",
   "metadata": {},
   "outputs": [
    {
     "data": {
      "text/plain": [
       "array([[ 1.18083715e+00,  1.15241378e+00,  6.18979166e-01,\n",
       "         3.91642813e-01,  1.69072613e+00, -2.19284671e-01,\n",
       "        -1.41511057e+00,  9.00557965e-01, -9.74982707e-01,\n",
       "         3.12178817e-01,  1.09411093e+00,  5.11807357e-01,\n",
       "         6.23866850e-01,  5.94330166e-01,  1.98763126e+00,\n",
       "         3.46087467e+00,  5.73962760e-01,  2.32001133e+00,\n",
       "         2.55501223e-01,  2.10569628e+00],\n",
       "       [ 3.84492675e-01,  2.55077596e-01, -2.40072528e+00,\n",
       "         8.12264748e-01, -8.49519496e-01, -2.93237923e-01,\n",
       "         1.91982902e-01, -1.17744972e-01, -1.13450429e-01,\n",
       "        -9.41443903e-01, -1.32360199e+00,  7.81194516e-01,\n",
       "        -3.93243634e-02,  4.07209556e-01,  7.95435829e-01,\n",
       "         5.26403416e-01,  1.15143841e+00,  4.78987020e-01,\n",
       "        -8.93897830e-01,  1.00553083e+00],\n",
       "       [-1.96362853e+00, -1.33166898e+00, -2.61136301e+00,\n",
       "        -2.01650084e+00, -2.33518504e+00, -2.50815206e+00,\n",
       "        -1.48035890e+00, -2.81934521e+00, -4.07955203e-01,\n",
       "         3.22957488e-01, -2.15284909e+00, -1.07614060e+00,\n",
       "        -8.03073000e-01, -1.76328844e+00,  1.44144773e-01,\n",
       "        -3.54606399e-03, -2.24612486e-01,  5.43138325e-01,\n",
       "         1.60715778e-01, -2.23252465e-02],\n",
       "       [-3.94575577e+00, -4.58545427e+00, -2.15358329e+00,\n",
       "        -1.77492169e+00, -2.28429442e+00, -2.26841306e+00,\n",
       "        -2.67687005e+00, -2.22843335e+00, -2.39442402e+00,\n",
       "         3.08942394e-01, -3.81932501e+00, -1.51940626e+00,\n",
       "        -2.22606329e+00, -2.01838987e+00, -2.50848049e+00,\n",
       "        -1.26585443e-01, -1.79901218e+00, -4.29087625e+00,\n",
       "        -9.85018961e-01, -1.54467455e+00],\n",
       "       [-4.57661953e+00, -4.41391120e+00, -4.38323485e+00,\n",
       "        -3.72914583e+00, -4.18755015e+00, -3.25163089e+00,\n",
       "        -2.14417192e+00, -4.25091091e+00, -4.43688327e+00,\n",
       "        -4.60590409e+00, -2.51713949e+00, -3.47185630e+00,\n",
       "        -2.72896477e+00, -3.64383024e+00, -2.53894514e+00,\n",
       "        -3.18847632e+00, -1.71693202e+00, -2.46584271e+00,\n",
       "        -5.90020577e-01, -2.28059347e+00],\n",
       "       [-3.75846799e+00, -6.43668504e+00, -5.57465793e+00,\n",
       "        -4.99759390e+00, -3.49268628e+00, -5.94956700e+00,\n",
       "        -2.34296430e+00, -3.73677850e+00, -5.28303666e+00,\n",
       "        -1.34152046e+00, -2.88382258e+00, -4.21591924e+00,\n",
       "        -4.64750085e+00, -4.33614907e+00, -2.83582410e+00,\n",
       "        -3.04470956e+00, -4.89955680e+00, -4.50217735e+00,\n",
       "        -2.75883040e+00, -2.02252208e+00],\n",
       "       [-5.91540074e+00, -6.99341602e+00, -4.87174991e+00,\n",
       "        -6.64215378e+00, -6.24374574e+00, -5.06881090e+00,\n",
       "        -6.17164315e+00, -4.24751125e+00, -5.45892905e+00,\n",
       "        -4.00964926e+00, -4.91411012e+00, -3.16521108e+00,\n",
       "        -5.95460586e+00, -4.05433201e+00, -3.52378101e+00,\n",
       "        -3.84127812e+00, -6.35939575e+00, -6.00125354e+00,\n",
       "        -3.47092925e+00, -3.24043027e+00],\n",
       "       [-8.47637167e+00, -6.84318417e+00, -7.78644093e+00,\n",
       "        -6.77166932e+00, -6.24271264e+00, -5.43255346e+00,\n",
       "        -7.16967878e+00, -7.04155820e+00, -5.68302588e+00,\n",
       "        -6.22337709e+00, -4.80562548e+00, -7.15177118e+00,\n",
       "        -4.84365546e+00, -3.95013350e+00, -4.57771774e+00,\n",
       "        -6.21257783e+00, -5.86330804e+00, -6.65457036e+00,\n",
       "        -6.99068442e+00, -4.89590220e+00],\n",
       "       [-8.39789178e+00, -9.32982408e+00, -7.50552204e+00,\n",
       "        -8.18030884e+00, -8.67876394e+00, -8.12409251e+00,\n",
       "        -6.73353986e+00, -6.95378032e+00, -7.47015414e+00,\n",
       "        -8.48270967e+00, -7.20706916e+00, -5.98230783e+00,\n",
       "        -7.31540867e+00, -4.40116639e+00, -6.68707265e+00,\n",
       "        -5.67246055e+00, -6.73914312e+00, -5.87946176e+00,\n",
       "        -6.10263712e+00, -5.26720020e+00],\n",
       "       [-1.03598415e+01, -9.28934428e+00, -1.02158637e+01,\n",
       "        -8.32248192e+00, -9.11822892e+00, -9.49251506e+00,\n",
       "        -7.91043691e+00, -8.53089820e+00, -6.50518654e+00,\n",
       "        -7.42292458e+00, -8.21010457e+00, -8.11364651e+00,\n",
       "        -7.97697049e+00, -7.37563328e+00, -6.11508189e+00,\n",
       "        -8.42326546e+00, -8.87233722e+00, -6.28861976e+00,\n",
       "        -7.04808952e+00, -9.07878599e+00]])"
      ]
     },
     "execution_count": 75,
     "metadata": {},
     "output_type": "execute_result"
    }
   ],
   "source": [
    "# Create a corresponding series of y vectors.\n",
    "ys = np.array([1.0 * xs[i] - 2 * i for i in range(len(xs))])\n",
    "\n",
    "# Add some noise.\n",
    "ys = ys + np.random.normal(0.0, 1.0, ys.shape)\n",
    "ys"
   ]
  },
  {
   "cell_type": "code",
   "execution_count": 76,
   "id": "dc706847",
   "metadata": {
    "scrolled": true
   },
   "outputs": [
    {
     "data": {
      "image/png": "[encoded data removed]",
      "text/plain": [
       "<Figure size 432x288 with 1 Axes>"
      ]
     },
     "metadata": {
      "needs_background": "light"
     },
     "output_type": "display_data"
    }
   ],
   "source": [
    "# Create global list of x and y values.\n",
    "x = xs.flatten()\n",
    "y = ys.flatten()\n",
    "# Plot.\n",
    "plt.plot(x, y, '.');"
   ]
  },
  {
   "cell_type": "code",
   "execution_count": 77,
   "id": "d147fe08",
   "metadata": {},
   "outputs": [
    {
     "data": {
      "image/png": "[encoded data removed]",
      "text/plain": [
       "<Figure size 432x288 with 1 Axes>"
      ]
     },
     "metadata": {
      "needs_background": "light"
     },
     "output_type": "display_data"
    }
   ],
   "source": [
    "# Same plot but with best fit lines for each category.\n",
    "for i in range(len(xs)):\n",
    "    # Plot this category.\n",
    "    plt.plot(xs[i], ys[i], '.')\n",
    "    # Fit line to category.\n",
    "    m, c = np.polyfit(xs[i], ys[i], 1)\n",
    "    # Create steadily increasing x range for plot.\n",
    "    xbestfit = np.linspace(xs[i].min(), xs[i].max(), 50)\n",
    "    # Corresponding y values based on best fit line.\n",
    "    ybestfit = m * xbestfit + c\n",
    "    # Plot best fit line for category.\n",
    "    plt.plot(xbestfit, ybestfit, color='lightgrey');"
   ]
  }
 ],
 "metadata": {
  "kernelspec": {
   "display_name": "Python 3 (ipykernel)",
   "language": "python",
   "name": "python3"
  },
  "language_info": {
   "codemirror_mode": {
    "name": "ipython",
    "version": 3
   },
   "file_extension": ".py",
   "mimetype": "text/x-python",
   "name": "python",
   "nbconvert_exporter": "python",
   "pygments_lexer": "ipython3",
   "version": "3.9.7"
  }
 },
 "nbformat": 4,
 "nbformat_minor": 5
}
